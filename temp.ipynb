{
 "cells": [
  {
   "cell_type": "code",
   "execution_count": 2,
   "metadata": {},
   "outputs": [],
   "source": [
    "import torch"
   ]
  },
  {
   "cell_type": "code",
   "execution_count": 3,
   "metadata": {},
   "outputs": [],
   "source": [
    "model = torch.load('/home/baoyu/2023/dyn-res-pile-manip/data/gnn_dyn_model/2023-01-28-10-42-05-114323/net_epoch_0_iter_1000.pth')"
   ]
  },
  {
   "cell_type": "code",
   "execution_count": 5,
   "metadata": {},
   "outputs": [
    {
     "data": {
      "text/plain": [
       "odict_keys(['model.particle_encoder.model.0.weight', 'model.particle_encoder.model.0.bias', 'model.particle_encoder.model.2.weight', 'model.particle_encoder.model.2.bias', 'model.relation_encoder.model.0.weight', 'model.relation_encoder.model.0.bias', 'model.relation_encoder.model.2.weight', 'model.relation_encoder.model.2.bias', 'model.relation_encoder.model.4.weight', 'model.relation_encoder.model.4.bias', 'model.particle_propagator.linear.weight', 'model.particle_propagator.linear.bias', 'model.relation_propagator.linear.weight', 'model.relation_propagator.linear.bias', 'model.particle_predictor.linear_0.weight', 'model.particle_predictor.linear_0.bias', 'model.particle_predictor.linear_1.weight', 'model.particle_predictor.linear_1.bias'])"
      ]
     },
     "execution_count": 5,
     "metadata": {},
     "output_type": "execute_result"
    }
   ],
   "source": [
    "model.keys()"
   ]
  }
 ],
 "metadata": {
  "kernelspec": {
   "display_name": "dyn-res-pile-manip",
   "language": "python",
   "name": "python3"
  },
  "language_info": {
   "codemirror_mode": {
    "name": "ipython",
    "version": 3
   },
   "file_extension": ".py",
   "mimetype": "text/x-python",
   "name": "python",
   "nbconvert_exporter": "python",
   "pygments_lexer": "ipython3",
   "version": "3.9.17"
  },
  "orig_nbformat": 4
 },
 "nbformat": 4,
 "nbformat_minor": 2
}
