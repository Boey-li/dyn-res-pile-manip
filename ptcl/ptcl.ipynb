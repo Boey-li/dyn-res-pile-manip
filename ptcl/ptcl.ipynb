{
 "cells": [
  {
   "cell_type": "code",
   "execution_count": 1,
   "metadata": {},
   "outputs": [
    {
     "name": "stdout",
     "output_type": "stream",
     "text": [
      "Jupyter environment detected. Enabling Open3D WebVisualizer.\n",
      "[Open3D INFO] WebRTC GUI backend enabled.\n",
      "[Open3D INFO] WebRTCWindowSystem: HTTP handshake server disabled.\n"
     ]
    }
   ],
   "source": [
    "import numpy as np\n",
    "import cv2\n",
    "from matplotlib import pyplot as plt\n",
    "import time\n",
    "\n",
    "from dgl.geometry import farthest_point_sampler\n",
    "import open3d as o3d\n",
    "\n",
    "from utils import load_yaml, fps, fps_rad, recenter, depth2fgpcd, pcd2pix, fps_np, downsample_pcd"
   ]
  },
  {
   "cell_type": "code",
   "execution_count": 2,
   "metadata": {},
   "outputs": [
    {
     "data": {
      "text/plain": [
       "(21, 720, 720, 5)"
      ]
     },
     "execution_count": 2,
     "metadata": {},
     "output_type": "execute_result"
    }
   ],
   "source": [
    "raw_obs = np.load('raw_obs.npy')\n",
    "raw_obs.shape"
   ]
  },
  {
   "cell_type": "code",
   "execution_count": 3,
   "metadata": {},
   "outputs": [
    {
     "data": {
      "text/plain": [
       "array([869.11683083, 869.11683083, 360.        , 360.        ])"
      ]
     },
     "execution_count": 3,
     "metadata": {},
     "output_type": "execute_result"
    }
   ],
   "source": [
    "camera_params = np.load('cam_params.npy')\n",
    "camera_params"
   ]
  },
  {
   "cell_type": "code",
   "execution_count": null,
   "metadata": {},
   "outputs": [],
   "source": [
    "# def obs2ptcl_fixed_num_batch(obs, particle_num, batch_size):\n",
    "#         # print('obs', obs.shape) # carrots: (720, 720, 5)\n",
    "#         global_scale = 24\n",
    "#         depth = obs[..., -1] / global_scale\n",
    "#         # print('depth', depth.shape) # (720, 720)\n",
    "        \n",
    "#         batch_sampled_ptcl = np.zeros((batch_size, particle_num, 3))\n",
    "#         batch_particle_r = np.zeros((batch_size, ))\n",
    "#         for i in range(batch_size):\n",
    "#             fgpcd = depth2fgpcd(depth, depth<0.599/0.8, get_cam_params())\n",
    "#             fgpcd = downsample_pcd(fgpcd, 0.01)\n",
    "#             sampled_ptcl, particle_r = fps(fgpcd, particle_num)\n",
    "#             batch_sampled_ptcl[i] = recenter(fgpcd, sampled_ptcl, r = min(0.02, 0.5 * particle_r))\n",
    "#             batch_particle_r[i] = particle_r\n",
    "#         return batch_sampled_ptcl, batch_particle_r"
   ]
  },
  {
   "cell_type": "code",
   "execution_count": 7,
   "metadata": {},
   "outputs": [],
   "source": [
    "global_scale = 24\n",
    "obs = raw_obs[10]\n",
    "depth = obs[..., -1] / global_scale\n",
    "fgpcd = depth2fgpcd(depth, depth<0.599/0.8, camera_params)\n",
    "# fgpcd = downsample_pcd(fgpcd, 0.01)"
   ]
  },
  {
   "cell_type": "code",
   "execution_count": 8,
   "metadata": {},
   "outputs": [
    {
     "name": "stdout",
     "output_type": "stream",
     "text": [
      "(720, 720)\n",
      "(52501, 3)\n"
     ]
    }
   ],
   "source": [
    "print(depth.shape)\n",
    "print(fgpcd.shape)"
   ]
  },
  {
   "cell_type": "code",
   "execution_count": 5,
   "metadata": {},
   "outputs": [],
   "source": [
    "pcd = o3d.geometry.PointCloud()\n",
    "pcd.points = o3d.utility.Vector3dVector(fgpcd)\n",
    "o3d.visualization.draw_geometries([pcd])"
   ]
  },
  {
   "cell_type": "code",
   "execution_count": 17,
   "metadata": {},
   "outputs": [],
   "source": [
    "# point cloud video\n",
    "vis = o3d.visualization.Visualizer()\n",
    "vis.create_window()\n",
    "\n",
    "# geometry is the point cloud used in your animaiton\n",
    "geometry = o3d.geometry.PointCloud()\n",
    "vis.add_geometry(geometry)\n",
    "\n",
    "global_scale = 24\n",
    "particle_num = 50 # obtained from resolution regressor \n",
    "save_images = True\n",
    "\n",
    "for i in range(len(raw_obs)):\n",
    "    obs = raw_obs[i]\n",
    "    depth = obs[..., -1] / global_scale\n",
    "    \n",
    "    fgpcd = depth2fgpcd(depth, depth<0.599/0.8, camera_params)\n",
    "    fgpcd = downsample_pcd(fgpcd, 0.01)\n",
    "    sampled_ptcl, particle_r = fps(fgpcd, particle_num) \n",
    "    fgpcd = sampled_ptcl\n",
    "    \n",
    "    geometry.points = o3d.utility.Vector3dVector(fgpcd)\n",
    "    vis.add_geometry(geometry)\n",
    "    vis.poll_events()\n",
    "    vis.update_renderer()\n",
    "    \n",
    "    if save_images:\n",
    "        vis.capture_screen_image(\"imgs/{:04d}.jpg\".format(i))\n",
    "    \n",
    "    time.sleep(0.3)\n",
    "\n",
    "vis.destroy_window()"
   ]
  },
  {
   "cell_type": "code",
   "execution_count": 16,
   "metadata": {},
   "outputs": [],
   "source": [
    "# imgs to video\n",
    "import glob \n",
    "import os\n",
    "\n",
    "img_array = []\n",
    "for filename in sorted(glob.glob(f'./imgs/*.jpg'), key=os.path.getmtime):\n",
    "    img = cv2.imread(filename)\n",
    "    height, width, layers = img.shape\n",
    "    size = (width,height)\n",
    "    img_array.append(img)\n",
    "\n",
    "out = cv2.VideoWriter(f'ptcl_sampled.mp4',cv2.VideoWriter_fourcc(*'mp4v'), 5, size)\n",
    "\n",
    "for i in range(len(img_array)):\n",
    "    out.write(img_array[i])\n",
    "out.release()\n"
   ]
  }
 ],
 "metadata": {
  "kernelspec": {
   "display_name": "dyn-res-pile-manip",
   "language": "python",
   "name": "python3"
  },
  "language_info": {
   "codemirror_mode": {
    "name": "ipython",
    "version": 3
   },
   "file_extension": ".py",
   "mimetype": "text/x-python",
   "name": "python",
   "nbconvert_exporter": "python",
   "pygments_lexer": "ipython3",
   "version": "3.9.17"
  },
  "orig_nbformat": 4
 },
 "nbformat": 4,
 "nbformat_minor": 2
}
